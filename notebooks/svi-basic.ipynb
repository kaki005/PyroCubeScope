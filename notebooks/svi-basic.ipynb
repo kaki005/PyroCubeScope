{
  "cells": [
    {
      "cell_type": "markdown",
      "metadata": {
        "colab_type": "text",
        "id": "view-in-github"
      },
      "source": [
        "<a href=\"https://colab.research.google.com/github/a-mitani/pyro_code_examples/blob/main/svi-basic.ipynb\" target=\"_parent\"><img src=\"https://colab.research.google.com/assets/colab-badge.svg\" alt=\"Open In Colab\"/></a>"
      ]
    },
    {
      "cell_type": "code",
      "execution_count": 2,
      "metadata": {
        "id": "O1HjdeNp00Cv"
      },
      "outputs": [],
      "source": [
        "import random\n",
        "import numpy as np\n",
        "import torch\n",
        "import torch.distributions.constraints as constraints\n",
        "import pyro\n",
        "from pyro.optim import Adam\n",
        "from pyro.infer import SVI, Trace_ELBO\n",
        "import pyro.distributions as dist\n",
        "import matplotlib.pyplot as plt"
      ]
    },
    {
      "cell_type": "code",
      "execution_count": 3,
      "metadata": {
        "id": "PsSXvodk1HTu"
      },
      "outputs": [],
      "source": [
        "# 試行データ作成\n",
        "def create_data(red_num, white_num):\n",
        "    red = torch.tensor(1.0)\n",
        "    white = torch.tensor(0.0)\n",
        "    data = []\n",
        "    for _ in range(red_num):\n",
        "        data.append(red)\n",
        "    for _ in range(white_num):\n",
        "        data.append(white)\n",
        "    random.shuffle(data)\n",
        "    data = torch.tensor(data)\n",
        "    return data\n",
        "\n",
        "data = create_data(6, 4)"
      ]
    },
    {
      "cell_type": "code",
      "execution_count": 4,
      "metadata": {
        "id": "R2KfirunehXZ"
      },
      "outputs": [],
      "source": [
        "# 確率モデルの定義\n",
        "def model(data):\n",
        "    # 事前確率分布は比率0.5に穏やかなピークを持つ関数を仮定する。\n",
        "    alpha0 = torch.tensor(2.0)\n",
        "    beta0 = torch.tensor(2.0)\n",
        "    f = pyro.sample(\"Theta\", dist.Beta(alpha0, beta0))\n",
        "\n",
        "    # 観測データのプレート定義\n",
        "    with pyro.plate('observation'):\n",
        "      pyro.sample('X', dist.Bernoulli(f), obs=data)"
      ]
    },
    {
      "cell_type": "code",
      "execution_count": 5,
      "metadata": {
        "id": "BFQPhKE1XGuu"
      },
      "outputs": [],
      "source": [
        "def guide(data):\n",
        "    # 変分パラメータαとβを定義する。\n",
        "    # 初期値は共に10としている。\n",
        "    # また、ベータ分布においてこれらのパラメータは正の値なので`constraints.positive`を指定。\n",
        "    alpha_q = pyro.param(\"alpha_q\", torch.tensor(10.0),\n",
        "                         constraint=constraints.positive)\n",
        "    beta_q = pyro.param(\"beta_q\", torch.tensor(10.0),\n",
        "                        constraint=constraints.positive)\n",
        "    # 最適化されたパラメータのベータ分布から混合率Θをサンプリングする\n",
        "    pyro.sample(\"Theta\", dist.Beta(alpha_q, beta_q))"
      ]
    },
    {
      "cell_type": "code",
      "execution_count": 6,
      "metadata": {
        "colab": {
          "base_uri": "https://localhost:8080/",
          "height": 282
        },
        "id": "1VVWb4KDim0T",
        "outputId": "b17d9d66-f92b-4f31-9044-f54038ed0e19"
      },
      "outputs": [
        {
          "name": "stdout",
          "output_type": "stream",
          "text": [
            "##########"
          ]
        },
        {
          "data": {
            "text/plain": [
              "[<matplotlib.lines.Line2D at 0x7fd64734b690>]"
            ]
          },
          "execution_count": 6,
          "metadata": {
            "tags": []
          },
          "output_type": "execute_result"
        },
        {
          "data": {
            "image/png": "[encoded data removed]",
            "text/plain": [
              "<Figure size 432x288 with 1 Axes>"
            ]
          },
          "metadata": {
            "needs_background": "light",
            "tags": []
          },
          "output_type": "display_data"
        }
      ],
      "source": [
        "# グローバル変数として保存されているパラメータを削除\n",
        "pyro.clear_param_store()\n",
        "\n",
        "# Optimizerの定義と設定（Adamの利用が推奨されている）\n",
        "adam_params = {\"lr\": 0.002, \"betas\": (0.95, 0.999)}\n",
        "optimizer = Adam(adam_params)\n",
        "\n",
        "# 推論アルゴリズムとLoss値を定義\n",
        "# ここでは組み込みのELBOの符号反転をLoss値とする`Trace_ELBO()`を利用しています。\n",
        "svi = SVI(model, guide, optimizer, loss=Trace_ELBO())\n",
        "\n",
        "# 最適化の逐次計算\n",
        "# ここではAdamで勾配降下を1000回繰り返すことになる。\n",
        "n_steps = 1000\n",
        "losses = []\n",
        "for step in range(n_steps):\n",
        "    loss = svi.step(data)\n",
        "    losses.append(loss)\n",
        "    if step % 100 == 0:\n",
        "        print('#', end='')\n",
        "\n",
        "plt.plot(losses)"
      ]
    },
    {
      "cell_type": "code",
      "execution_count": 7,
      "metadata": {
        "colab": {
          "base_uri": "https://localhost:8080/"
        },
        "id": "rMVdbrIDVS6e",
        "outputId": "f740aad4-71e3-4e63-be8e-c3e17736e7b9"
      },
      "outputs": [
        {
          "name": "stdout",
          "output_type": "stream",
          "text": [
            "alpha_q = 10.55, beta_q = 7.80\n"
          ]
        }
      ],
      "source": [
        "# 最適化後の変分パラメータを取得する\n",
        "alpha_q = pyro.param(\"alpha_q\").item()\n",
        "beta_q = pyro.param(\"beta_q\").item()\n",
        "print(\"alpha_q = {:.2f}, beta_q = {:.2f}\".format(alpha_q, beta_q))"
      ]
    },
    {
      "cell_type": "code",
      "execution_count": 8,
      "metadata": {
        "colab": {
          "base_uri": "https://localhost:8080/",
          "height": 282
        },
        "id": "hN4iIK_CZU21",
        "outputId": "7ae2fee5-b30d-463b-ee99-3308cd2b828b"
      },
      "outputs": [
        {
          "data": {
            "text/plain": [
              "[<matplotlib.lines.Line2D at 0x7fd646eae750>]"
            ]
          },
          "execution_count": 8,
          "metadata": {
            "tags": []
          },
          "output_type": "execute_result"
        },
        {
          "data": {
            "image/png": "[encoded data removed]",
            "text/plain": [
              "<Figure size 432x288 with 1 Axes>"
            ]
          },
          "metadata": {
            "needs_background": "light",
            "tags": []
          },
          "output_type": "display_data"
        }
      ],
      "source": [
        "# 得られたパラメータを用いて事後確率分布をプロット\n",
        "x_range = np.arange(0.0, 1.0, 0.01)\n",
        "estimated_dist = dist.Beta(alpha_q, beta_q)\n",
        "y = [estimated_dist.log_prob(torch.tensor([x])).exp() for x in x_range]\n",
        "plt.plot(x_range, y)"
      ]
    },
    {
      "cell_type": "code",
      "execution_count": 9,
      "metadata": {
        "colab": {
          "base_uri": "https://localhost:8080/"
        },
        "id": "Zckbwue6BRAK",
        "outputId": "7dc4f6cf-1778-4438-a29d-c78de33bc8db"
      },
      "outputs": [
        {
          "name": "stdout",
          "output_type": "stream",
          "text": [
            "mode = 0.584\n"
          ]
        }
      ],
      "source": [
        "# 最頻値を計算\n",
        "mode = (alpha_q - 1) / (alpha_q + beta_q - 2)\n",
        "print(\"mode = {:.3f}\".format(mode))"
      ]
    },
    {
      "cell_type": "code",
      "execution_count": 10,
      "metadata": {
        "colab": {
          "base_uri": "https://localhost:8080/"
        },
        "id": "t7ldebOo0dng",
        "outputId": "990e4aa5-b09c-4d72-a6f6-a92ec1ccf56e"
      },
      "outputs": [
        {
          "name": "stdout",
          "output_type": "stream",
          "text": [
            "infered ratio = 0.575 +- 0.112\n"
          ]
        }
      ],
      "source": [
        "# 平均値を計算\n",
        "mean = alpha_q / (alpha_q + beta_q)\n",
        "# 標準偏差を計算\n",
        "factor = beta_q / (alpha_q * (1.0 + alpha_q + beta_q))\n",
        "std = mean * np.sqrt(factor)\n",
        "print(\"infered ratio = {:.3f} +- {:.3f}\".format(mean, std))"
      ]
    }
  ],
  "metadata": {
    "colab": {
      "authorship_tag": "ABX9TyNg0to/vuXinNSkn/ajJCjb",
      "collapsed_sections": [],
      "include_colab_link": true,
      "name": "svi.ipynb",
      "provenance": []
    },
    "kernelspec": {
      "display_name": "Python 3",
      "name": "python3"
    }
  },
  "nbformat": 4,
  "nbformat_minor": 0
}
