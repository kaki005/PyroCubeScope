{
  "cells": [
    {
      "cell_type": "markdown",
      "metadata": {
        "colab_type": "text",
        "id": "view-in-github"
      },
      "source": [
        "<a href=\"https://colab.research.google.com/github/a-mitani/pyro_code_examples/blob/main/mle_map.ipynb\" target=\"_parent\"><img src=\"https://colab.research.google.com/assets/colab-badge.svg\" alt=\"Open In Colab\"/></a>"
      ]
    },
    {
      "cell_type": "code",
      "execution_count": 2,
      "metadata": {
        "id": "O1HjdeNp00Cv"
      },
      "outputs": [],
      "source": [
        "import random\n",
        "import numpy as np\n",
        "import torch\n",
        "import torch.distributions.constraints as constraints\n",
        "import pyro\n",
        "from pyro.optim import Adam\n",
        "from pyro.infer import SVI, Trace_ELBO\n",
        "import pyro.distributions as dist\n",
        "import matplotlib.pyplot as plt"
      ]
    },
    {
      "cell_type": "code",
      "execution_count": 3,
      "metadata": {
        "id": "PsSXvodk1HTu"
      },
      "outputs": [],
      "source": [
        "# 試行データ作成\n",
        "def create_data(heads_num, tails_num):\n",
        "    head = torch.tensor(1.0)\n",
        "    tail = torch.tensor(0.0)\n",
        "    data = []\n",
        "    for _ in range(heads_num):\n",
        "        data.append(head)\n",
        "    for _ in range(tails_num):\n",
        "        data.append(tail)\n",
        "    random.shuffle(data)\n",
        "    data = torch.tensor(data)\n",
        "    return data\n",
        "\n",
        "data = create_data(6, 4)"
      ]
    },
    {
      "cell_type": "code",
      "execution_count": 4,
      "metadata": {
        "id": "9T17Zy9djVFh"
      },
      "outputs": [],
      "source": [
        "# 最適化計算用のヘルパー関数\n",
        "#　引数として指定されたmodelの関数とguide関数を用いてELBOの最大化を行う\n",
        "def optimize_param(model_fn, guide_fn):\n",
        "    # グローバル変数として保存されているパラメータを削除\n",
        "    pyro.clear_param_store()\n",
        "\n",
        "    # Optimizerの定義と設定（Adamの利用が推奨されている）\n",
        "    adam_params = {\"lr\": 0.001, \"betas\": (0.95, 0.999)}\n",
        "    optimizer = Adam(adam_params)\n",
        "\n",
        "    # 推論アルゴリズムとLoss値を定義\n",
        "    # ここでは組み込みのELBOの符号反転をLoss値とする`Trace_ELBO()`を利用しています。\n",
        "    svi = SVI(model_fn, guide_fn, optimizer, loss=Trace_ELBO())\n",
        "\n",
        "    # 最適化の逐次計算\n",
        "    # ここではAdamで勾配降下を1000回繰り返すことになる。\n",
        "    n_steps = 1000\n",
        "    losses = []\n",
        "    for step in range(n_steps):\n",
        "        loss = svi.step(data)\n",
        "        losses.append(loss)\n",
        "        if step % 100 == 0:\n",
        "            print('#', end='')\n",
        "\n",
        "    plt.plot(losses)\n",
        "    plt.show()"
      ]
    },
    {
      "cell_type": "markdown",
      "metadata": {
        "id": "s57VGuOMh3z5"
      },
      "source": [
        "## MAP推定"
      ]
    },
    {
      "cell_type": "code",
      "execution_count": 5,
      "metadata": {
        "id": "R2KfirunehXZ"
      },
      "outputs": [],
      "source": [
        "# MAP推定用に確率モデルの定義（ベイズ推定の際と全く同じことに注意）\n",
        "def model_map(data):\n",
        "    # 事前確率分布は裏表が平等に出る確率が高いだろうとして、α=2, β=2のベータ分布として設計。\n",
        "    alpha0 = torch.tensor(2.0)\n",
        "    beta0 = torch.tensor(2.0)\n",
        "    f = pyro.sample(\"Theta\", dist.Beta(alpha0, beta0))\n",
        "\n",
        "    # 観測データのプレート定義\n",
        "    with pyro.plate('observation'):\n",
        "      pyro.sample('X', dist.Bernoulli(f), obs=data)"
      ]
    },
    {
      "cell_type": "code",
      "execution_count": 6,
      "metadata": {
        "id": "BFQPhKE1XGuu"
      },
      "outputs": [],
      "source": [
        "# MAP推定や最終推定は変分関数としてデルタ関数を仮定する。\n",
        "def guide_delta(data):\n",
        "    theta_opt = pyro.param(\"theta_opt\", torch.tensor(0.5),\n",
        "                       constraint=constraints.unit_interval)\n",
        "    pyro.sample(\"Theta\", dist.Delta(theta_opt))"
      ]
    },
    {
      "cell_type": "code",
      "execution_count": 7,
      "metadata": {
        "colab": {
          "base_uri": "https://localhost:8080/",
          "height": 299
        },
        "id": "1VVWb4KDim0T",
        "outputId": "59195fed-6261-42fc-f043-120cb9572edb"
      },
      "outputs": [
        {
          "name": "stdout",
          "output_type": "stream",
          "text": [
            "##########"
          ]
        },
        {
          "data": {
            "image/png": "[encoded data removed]",
            "text/plain": [
              "<Figure size 432x288 with 1 Axes>"
            ]
          },
          "metadata": {
            "needs_background": "light",
            "tags": []
          },
          "output_type": "display_data"
        },
        {
          "name": "stdout",
          "output_type": "stream",
          "text": [
            "theta_opt = 0.583\n"
          ]
        }
      ],
      "source": [
        "#　MAP推定用のmodel関数とguide関数を指定して最適化を実施\n",
        "optimize_param(model_map, guide_delta)\n",
        "\n",
        "# 最適化後の変分パラメータを取得する\n",
        "theta = pyro.param(\"theta_opt\").item()\n",
        "print(\"theta_opt = {:.3f}\".format(theta))"
      ]
    },
    {
      "cell_type": "markdown",
      "metadata": {
        "id": "5o2znuHtkzKp"
      },
      "source": [
        " ## 最尤推定"
      ]
    },
    {
      "cell_type": "code",
      "execution_count": 8,
      "metadata": {
        "id": "Zckbwue6BRAK"
      },
      "outputs": [],
      "source": [
        "# 最尤推定用に確率モデルの定義（ベイズ推定の際と全く同じことに注意）\n",
        "def model_mle(data):\n",
        "    # 事前確率分布は一定値（無情報）として一様分布を指定する\n",
        "    f = pyro.sample(\"Theta\", dist.Uniform(0.0, 1.0))\n",
        "\n",
        "    # 観測データのプレート定義\n",
        "    with pyro.plate('observation'):\n",
        "      pyro.sample('X', dist.Bernoulli(f), obs=data)"
      ]
    },
    {
      "cell_type": "code",
      "execution_count": 9,
      "metadata": {
        "colab": {
          "base_uri": "https://localhost:8080/",
          "height": 299
        },
        "id": "XCPVWCDtllnM",
        "outputId": "0f8a4b22-b5e3-4049-da7d-052b9651f754"
      },
      "outputs": [
        {
          "name": "stdout",
          "output_type": "stream",
          "text": [
            "##########"
          ]
        },
        {
          "data": {
            "image/png": "[encoded data removed]",
            "text/plain": [
              "<Figure size 432x288 with 1 Axes>"
            ]
          },
          "metadata": {
            "needs_background": "light",
            "tags": []
          },
          "output_type": "display_data"
        },
        {
          "name": "stdout",
          "output_type": "stream",
          "text": [
            "theta_opt = 0.600\n"
          ]
        }
      ],
      "source": [
        "#　MAP推定用のmodel関数とguide関数を指定して最適化を実施\n",
        "# guideはMAP推定と同じくデルタ関数を利用。\n",
        "optimize_param(model_mle, guide_delta)\n",
        "\n",
        "# 最適化後の変分パラメータを取得する\n",
        "theta = pyro.param(\"theta_opt\").item()\n",
        "print(\"theta_opt = {:.3f}\".format(theta))"
      ]
    },
    {
      "cell_type": "markdown",
      "metadata": {
        "id": "MUWhNZGGl2UZ"
      },
      "source": [
        "## Appendix"
      ]
    },
    {
      "cell_type": "code",
      "execution_count": 10,
      "metadata": {
        "colab": {
          "base_uri": "https://localhost:8080/",
          "height": 265
        },
        "id": "RLjUD2JuL9NX",
        "outputId": "0b6c3f25-6acc-4b67-81dd-06aa33b22201"
      },
      "outputs": [
        {
          "data": {
            "image/png": "[encoded data removed]",
            "text/plain": [
              "<Figure size 432x288 with 1 Axes>"
            ]
          },
          "metadata": {
            "needs_background": "light",
            "tags": []
          },
          "output_type": "display_data"
        }
      ],
      "source": [
        "# 任意のパラメータでベータ関数をプロットする関数\n",
        "def plot_beta_dist(alpha, beta):\n",
        "    x_range = np.arange(0.0, 1.01, 0.01)\n",
        "    estimated_dist = dist.Beta(alpha, beta)\n",
        "    y = [estimated_dist.log_prob(torch.tensor([x])).exp() for x in x_range]\n",
        "    plt.plot(x_range, y)\n",
        "\n",
        "plot_beta_dist(2, 2)"
      ]
    }
  ],
  "metadata": {
    "colab": {
      "authorship_tag": "ABX9TyNo1QXVoGFMt77XJHAJBr1H",
      "collapsed_sections": [],
      "include_colab_link": true,
      "name": "mle_map.ipynb",
      "provenance": []
    },
    "kernelspec": {
      "display_name": "Python 3",
      "name": "python3"
    }
  },
  "nbformat": 4,
  "nbformat_minor": 0
}
